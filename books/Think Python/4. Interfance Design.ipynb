{
 "cells": [
  {
   "cell_type": "markdown",
   "metadata": {},
   "source": [
    "# A development plan\n",
    "A development plan is a process for writing programs. The process we used in this case study is “encapsulation and generalization”. The steps of this process are:\n",
    "\n",
    "1. Start by writing a small program with no function definitions.\n",
    "\n",
    "2. Once you get the program working, identify a coherent piece of it, encapsulate the piece in a function and give it a name.\n",
    "\n",
    "3. Generalize the function by adding appropriate parameters.\n",
    "\n",
    "4. Repeat steps 1–3 until you have a set of working functions. Copy and paste working code to avoid retyping (and re-debugging).\n",
    "\n",
    "5. Look for opportunities to improve the program by refactoring. For example, if you have similar code in several places, consider factoring it into an appropriately general function.\n",
    "\n",
    "## docstring\n",
    "A **docstring** is a string at the beginning of a function that explains the interface."
   ]
  },
  {
   "cell_type": "code",
   "execution_count": 1,
   "metadata": {},
   "outputs": [],
   "source": [
    "def polyline(t, n, length, angle):\n",
    "    \"\"\"Draws n line segments with the givin length and\n",
    "    angle (in degrees) between them. t is a turtle\n",
    "    \"\"\"\n",
    "    for i in range(n):\n",
    "        t.fd(length)\n",
    "        t.lt(angle)"
   ]
  },
  {
   "cell_type": "code",
   "execution_count": null,
   "metadata": {},
   "outputs": [],
   "source": []
  }
 ],
 "metadata": {
  "kernelspec": {
   "display_name": "Python 3",
   "language": "python",
   "name": "python3"
  },
  "language_info": {
   "codemirror_mode": {
    "name": "ipython",
    "version": 3
   },
   "file_extension": ".py",
   "mimetype": "text/x-python",
   "name": "python",
   "nbconvert_exporter": "python",
   "pygments_lexer": "ipython3",
   "version": "3.7.6"
  }
 },
 "nbformat": 4,
 "nbformat_minor": 4
}
