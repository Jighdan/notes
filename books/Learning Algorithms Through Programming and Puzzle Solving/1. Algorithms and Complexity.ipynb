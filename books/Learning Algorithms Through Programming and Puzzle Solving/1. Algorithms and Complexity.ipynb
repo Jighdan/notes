{
 "metadata": {
  "language_info": {
   "codemirror_mode": {
    "name": "ipython",
    "version": 3
   },
   "file_extension": ".py",
   "mimetype": "text/x-python",
   "name": "python",
   "nbconvert_exporter": "python",
   "pygments_lexer": "ipython3",
   "version": 3
  },
  "orig_nbformat": 2
 },
 "nbformat": 4,
 "nbformat_minor": 2,
 "cells": [
  {
   "source": [
    "# Algorithms and Complexity\n",
    "\n",
    "## What is an Algorithm?\n",
    "\n",
    "An algorithm is a sequence of instructions that one must perform in order to solve a well-formulated prolem. We will specify problems in terms of their _input_ and their _output_.\n",
    "\n",
    "## Pseudocode\n",
    "\n",
    "Pseudocode is a way to write how an algorithm works, listing the steps that the algorithm takes, while being neither too vague nor too formal.\n",
    "\n",
    "## Problem versus Problem Instance\n",
    "\n",
    "- A problem describe a class of computational tasks.\n",
    "- A problem instance is one particular input from that class.\n",
    "\n",
    "## Correct Versus Incorrect Algorithms\n",
    "\n",
    "We say that an algorithm is correct when it translates every input instance into the correct output. An algorithm is incorrect when there is at least one input instance for which the algorithm gives an incorrect output.\n",
    "\n",
    "## Big O Notation\n",
    "\n",
    "Computer scientists use the Big O notation to describe concicely the running time of an algorithm."
   ],
   "cell_type": "markdown",
   "metadata": {}
  }
 ]
}