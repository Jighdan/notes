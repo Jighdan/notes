{
 "cells": [
  {
   "cell_type": "markdown",
   "metadata": {},
   "source": [
    "# An Array of Sequences\n",
    "## List comprehension versus map and filter"
   ]
  },
  {
   "cell_type": "code",
   "execution_count": null,
   "metadata": {},
   "outputs": [],
   "source": [
    "symbols = \"$¢£¥€¤\"\n",
    "\n",
    "# Same stuff\n",
    "beyond_ascii = [ord(s) for s in symbols if ord(s) > 127]\n",
    "beyond_ascii = list(filter(lambda c: c > 127, map(ord, symbols)))"
   ]
  },
  {
   "cell_type": "markdown",
   "metadata": {},
   "source": [
    "## Cartesian products\n",
    "List comprehensions can generate lists from the Cartesian product of two or more iterables. The item that make up the cartesian product are tuples made from the items from every input iterable. The resulting list has a length equal to the lengths of the input iterables multiplied."
   ]
  },
  {
   "cell_type": "code",
   "execution_count": null,
   "metadata": {},
   "outputs": [],
   "source": [
    "ranks = [\"J\", \"Q\", \"K\", \"A\"]\n",
    "suits = [\"Spades\", \"Hearts\", \"Diamonds\", \"Clubs\"]\n",
    "cards = [(rank, suit) for rank in ranks for suit in suits]"
   ]
  },
  {
   "cell_type": "markdown",
   "metadata": {},
   "source": [
    "## Generator Expresseions\n",
    "To initialize tuples, arrays, and other types of sequences, you could also start from a listcomp, but a genexp sabves memory because it yields items one by one using the iterator protocol instead of building a whole list just to feed another constructor."
   ]
  },
  {
   "cell_type": "code",
   "execution_count": null,
   "metadata": {},
   "outputs": [],
   "source": [
    "symbols = \"$¢£¥€¤\"\n",
    "tuple(ord(symbol) for symbol in symbols)\n",
    "\n",
    "# using a genexp\n",
    "import array\n",
    "array.array(\"I\", (ord(symbol) for symbol in symbols))"
   ]
  },
  {
   "cell_type": "code",
   "execution_count": null,
   "metadata": {},
   "outputs": [],
   "source": [
    "colors = [\"black\", \"white\"]\n",
    "sizes = [\"S\", \"M\", \"L\"]\n",
    "\n",
    "# here the list of t-shirts is never built in memory: the generator\n",
    "# expression feeds the for loop producing one item at a time. If the\n",
    "# Cartesian product had 1,000 items each, using a genexp would save\n",
    "# the expense of building a list with a million items just to feed \n",
    "# the for loop\n",
    "for tshirt in (\"%s %s\" % (c, s) for c in colors for s in sizes):\n",
    "    print(tshirt)\n",
    "    \n",
    "# the genexp yields items one by one; a list with all six t-shirts\n",
    "# variations is never produced in this sample"
   ]
  },
  {
   "cell_type": "markdown",
   "metadata": {},
   "source": [
    "## Tuples are not just immutable lists\n",
    "Tyuple do double duty, they can be used as immutable lists and also as records with no field names.\n",
    "\n",
    "### Tuples as records"
   ]
  },
  {
   "cell_type": "code",
   "execution_count": null,
   "metadata": {},
   "outputs": [],
   "source": [
    "lax_coordinates = (33.9425, -118.408056)\n",
    "city, year, pop, chg, area = (\"Tokyo\", 2003, 32450, 0.66, 8014)\n",
    "travelers_ids = [('USA', '31195855'), ('BRA', 'CE342567'), ('ESP', 'XDA205856')]\n",
    "for passport in sorted(travelers_ids):\n",
    "    print(\"%s/%s\" % passport)\n",
    "\n",
    "for country, _ in travelers_ids:\n",
    "    print(country)"
   ]
  },
  {
   "cell_type": "markdown",
   "metadata": {},
   "source": [
    "### Tuple unpacking\n",
    "Tuple unpacking works with any iterable object. The only requirement is that the iterable yields exactly one item per variable in the receiving tuple, unless you use a star (\\*) to capture excess items.\n",
    "\n",
    "The most visible form of tuple unpacking is _parallel assignment_; that is, assigning items from an iterable to a tuple of variables, as you can see in this example:"
   ]
  },
  {
   "cell_type": "code",
   "execution_count": 6,
   "metadata": {},
   "outputs": [],
   "source": [
    "# unpacking tuples\n",
    "lax_coordinates = (33.9425, -118.408056)\n",
    "latitude, logitude = lax_coordinates"
   ]
  },
  {
   "cell_type": "markdown",
   "metadata": {},
   "source": [
    "### Nested tuple unpacking\n",
    "The tuple to receive an expression to unpack can have nested tuples, like (a, b, (c, d)), and Python will do the right thing if the expression matches the nesting structure."
   ]
  },
  {
   "cell_type": "code",
   "execution_count": null,
   "metadata": {},
   "outputs": [],
   "source": [
    "metro_areas = [\n",
    " ('Tokyo', 'JP', 36.933, (35.689722, 139.691667)),\n",
    " ('Delhi NCR', 'IN', 21.935, (28.613889, 77.208889)),\n",
    " ('Mexico City', 'MX', 20.142, (19.433333, -99.133333)),\n",
    " ('New York-Newark', 'US', 20.104, (40.808611, -74.020386)),\n",
    " ('Sao Paulo', 'BR', 19.649, (-23.547778, -46.635833))\n",
    "]\n",
    "\n",
    "print(\"{:15} | {:^9} | {:^9}\".format(\"\", \"lat.\", \"long\"))\n",
    "fmt = \"{:15} | {:9.4f} | {:9.4f}\"\n",
    "for name, cc, pop, (latitude, longitude) in metro_areas:\n",
    "    if longitude <= 0:\n",
    "        print(fmt.format(name, latitude, longitude))"
   ]
  },
  {
   "cell_type": "markdown",
   "metadata": {},
   "source": [
    "### Named tuples\n",
    "The **collections.namedtuple** function is a factory that produces subclasses of tuple enhanced with field names and a class name- which helps debugging. Instances of a class that you build with **namedtuple** take exactly the same amount of memory as tuples because the field names are stored in the class. They use less memory than a regular object because they don't store attributes in a per-instance **__dict__**."
   ]
  },
  {
   "cell_type": "code",
   "execution_count": 9,
   "metadata": {},
   "outputs": [],
   "source": [
    "from collections import namedtuple\n",
    "\n",
    "City = namedtuple(\"City\", \"name country population coordinates\")\n",
    "tokyo = City(\"Tokyo\", \"JP\", 36.933, (35.689722, 139.691667))"
   ]
  },
  {
   "cell_type": "markdown",
   "metadata": {},
   "source": [
    "## Using + and * with sequences"
   ]
  },
  {
   "cell_type": "code",
   "execution_count": 13,
   "metadata": {},
   "outputs": [],
   "source": [
    "board = [[\"_\"] * 3 for i in range(3)]\n",
    "weird_board = [[\"_\"] * 3] * 3\n",
    "weird_board[1][2] = \"O\""
   ]
  },
  {
   "cell_type": "markdown",
   "metadata": {},
   "source": [
    "## Augmented assignment with sequences\n",
    "The augmented assignment operators **+=** and **\\*=** behave very differently depending on the first operand. To simplify the discussion, we will focus on augmented addition first (**+=**), but the concepts also apply to **\\*=** and to other augmented assignment operators.\n",
    "\n",
    "The special method that makes **+=** work is **__iadd__** (for \"in-place addition\").\n",
    "\n",
    "## When a list is not the answer\n",
    "### Arrays\n",
    "If the list will only contain numbers, an **array.array** is more efficient than a list."
   ]
  },
  {
   "cell_type": "code",
   "execution_count": 14,
   "metadata": {},
   "outputs": [],
   "source": [
    "from array import array\n",
    "from random import random\n",
    "\n",
    "floats = array(\"d\", (random() for i in range(10**7)))"
   ]
  },
  {
   "cell_type": "markdown",
   "metadata": {},
   "source": [
    "Another fast and more flexible way of saving numeric data is the pickle module for object serialization. Saving an array of floats with pickle.dump is almost as fast as with array.tofile however, pickle handles almost all built-in types, including complex numbers, nested collections, and even instances of user-defined classes automatically (if they are not too tricky in their implementation)."
   ]
  },
  {
   "cell_type": "markdown",
   "metadata": {},
   "source": [
    "## Summary\n",
    "Mastering the standard library sequence types is a prerequisite for writing concise, effective, and idiomatic Python code.\n",
    "\n",
    "Python sequences are often categorized as mutable or immutable, but it is also useful to consider a different axis: flat sequences and container sequences. The former are more compact, faster, and easier to use, but are limited to storing atomic data such as numbers, characters, and bytes. Container sequences are more flexible, but may surprise you when they hold mutable objects, so you need to be careful to use them correctly with nested data structures.\n",
    "\n",
    "List comprehensions and generator expressions are powerful notations to build and initialize sequences. If you are not yet comfortable with them, take the time to master their basic usage."
   ]
  }
 ],
 "metadata": {
  "kernelspec": {
   "display_name": "Python 3",
   "language": "python",
   "name": "python3"
  },
  "language_info": {
   "codemirror_mode": {
    "name": "ipython",
    "version": 3
   },
   "file_extension": ".py",
   "mimetype": "text/x-python",
   "name": "python",
   "nbconvert_exporter": "python",
   "pygments_lexer": "ipython3",
   "version": "3.8.5"
  }
 },
 "nbformat": 4,
 "nbformat_minor": 4
}
