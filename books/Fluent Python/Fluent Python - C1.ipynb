{
 "cells": [
  {
   "cell_type": "markdown",
   "metadata": {},
   "source": [
    "# The Python Data Model\n",
    "\n",
    "## Data Model\n",
    "A description of Python as a framework. It formal‐\n",
    "izes the interfaces of the building blocks of the language itself, such as sequences, iter‐\n",
    "ators, functions, classes, context managers, and so on.\n",
    "\n",
    "## Special Methods\n",
    "A variety of instance methods that are reserved by Python, which affect an object’s high level behavior and its interactions with operators."
   ]
  },
  {
   "cell_type": "code",
   "execution_count": 17,
   "metadata": {},
   "outputs": [],
   "source": [
    "# Pythonic Card Deck\n",
    "import collections\n",
    "\n",
    "Card = collections.namedtuple(\"Card\", [\"rank\", \"suit\"])\n",
    "# collections.namedtuple can be used to build classes of objects \n",
    "# that are just bundles of attributes with no custom methods\n",
    "\n",
    "class FrenchDeck:\n",
    "    ranks = [str(n) for n in range(2, 11)] + list(\"JQKA\")\n",
    "    suits = \"spades diamonds clubs hearts\".split()\n",
    "    \n",
    "    def __init__(self):\n",
    "        self._cards = [Card(rank, suit) for suit in self.suits\n",
    "                                        for rank in self.ranks]\n",
    "    \n",
    "    def __len__(self):\n",
    "        return len(self._cards)\n",
    "    \n",
    "    def __getitem__(self, position):\n",
    "        return self._cards[position]"
   ]
  },
  {
   "cell_type": "markdown",
   "metadata": {},
   "source": [
    "The two advantages we can see here in the use of special methods to leverage Python data model are:\n",
    "- The user of your classes don't have to memorize arbitrary method names for standard operations.\n",
    "- It's easier to benefit from te rich Python standard library, rather than reinventing the wheel."
   ]
  },
  {
   "cell_type": "markdown",
   "metadata": {},
   "source": [
    "## Emulating Numeric Types\n",
    "Several special methods allow user objects to respond to operators such as **+**."
   ]
  },
  {
   "cell_type": "code",
   "execution_count": 21,
   "metadata": {},
   "outputs": [],
   "source": [
    "# Implementing a class to represent two-dimensional vectors\n",
    "# also known as Euclidean vectors\n",
    "from math import hypot\n",
    "\n",
    "class Vector:\n",
    "    def __init__(self, x=0, y=0):\n",
    "        self.x = x\n",
    "        self.y = y\n",
    "    \n",
    "    def __repr__(self):\n",
    "        return \"Vector(%r, %r)\" % (self.x, self.y)\n",
    "    \n",
    "    def __abs__(self):\n",
    "        return hypot(self.x, self.y)\n",
    "    \n",
    "    def __bool__(self):\n",
    "        return bool(abs(self))\n",
    "    \n",
    "    def __add__(self, other):\n",
    "        x = self.x + other.x\n",
    "        y = self.y + other.y\n",
    "        return Vector(x, y)\n",
    "    \n",
    "    def __mul__(self, scalar):\n",
    "        return Vector(self.x * scalar, self.y * scalar)"
   ]
  },
  {
   "cell_type": "markdown",
   "metadata": {},
   "source": [
    "The **__repr__** special method is called by the **repr** built-in to get the string representation of the object for inspection."
   ]
  },
  {
   "cell_type": "markdown",
   "metadata": {},
   "source": [
    "## Notes & Further Reading\n",
    "- Practicality beats purity\n",
    "- Special cases aren't special enough to break the rules\n",
    "\n",
    "#### On Python's data model\n",
    "https://docs.python.org/3/reference/datamodel.html\n",
    "\n",
    "#### On _doctest_\n",
    "https://docs.python.org/2/library/doctest.html\n",
    "\n",
    "#### On use of underscore\n",
    "https://hackernoon.com/understanding-the-underscore-of-python-309d1a029edc\n",
    "\n",
    "#### On formatting & representing strings\n",
    "https://stackoverflow.com/questions/1436703/difference-between-str-and-repr\n",
    "https://pyformat.info/"
   ]
  }
 ],
 "metadata": {
  "kernelspec": {
   "display_name": "Python 3",
   "language": "python",
   "name": "python3"
  },
  "language_info": {
   "codemirror_mode": {
    "name": "ipython",
    "version": 3
   },
   "file_extension": ".py",
   "mimetype": "text/x-python",
   "name": "python",
   "nbconvert_exporter": "python",
   "pygments_lexer": "ipython3",
   "version": "3.7.6"
  }
 },
 "nbformat": 4,
 "nbformat_minor": 4
}
