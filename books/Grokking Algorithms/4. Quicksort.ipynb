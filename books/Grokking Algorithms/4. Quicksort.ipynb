{
 "metadata": {
  "language_info": {
   "codemirror_mode": {
    "name": "ipython",
    "version": 3
   },
   "file_extension": ".py",
   "mimetype": "text/x-python",
   "name": "python",
   "nbconvert_exporter": "python",
   "pygments_lexer": "ipython3",
   "version": 3
  },
  "orig_nbformat": 2
 },
 "nbformat": 4,
 "nbformat_minor": 2,
 "cells": [
  {
   "source": [
    "# Divide and Conquer\n",
    "\n",
    "The way divide and conquer works:\n",
    "\n",
    "1. Figure out a simple case as the base case.\n",
    "2. Figure out how to reduce your problem and get to the base case."
   ],
   "cell_type": "markdown",
   "metadata": {}
  },
  {
   "cell_type": "code",
   "execution_count": null,
   "metadata": {},
   "outputs": [],
   "source": [
    "# You have to add upp all the numbers and return the total\n",
    "\n",
    "def sum(array):\n",
    "    total = 0\n",
    "    for item in array:\n",
    "        total += item\n",
    "    return total\n",
    "    "
   ]
  }
 ]
}