{
 "cells": [
  {
   "cell_type": "markdown",
   "metadata": {},
   "source": [
    "# Arrays\n",
    "\n",
    "The elements in an array are numbered.\n",
    "\n",
    "### Exercise\n",
    "\n",
    "**2.1 - Suposse you're bulding an app to keep track of your finances. Every day, you write down everything you spent money on. At the end of the month, you review your expenses and sum up how much you spent. So, you have lots of inserts and a few reads. Should you use an array or a list?**\n",
    "\n",
    "> A Linked List\n",
    "\n",
    "## Array and Linked List comparison\n",
    "\n",
    "|           | **Arrays** | **Lists** |\n",
    "| :-------- | :----: | ----: |\n",
    "| **Reading**   |  O(1)  |  O(n) |\n",
    "| **Insertion** |  O(n)  |  O(1) |\n",
    "| **Deletion**  |  O(n)  |  O(1) |\n",
    "\n",
    "There are two different types of access: _random access_ and _sequential access_. Sequential access means reading the elements one by one, starting at the first element. Linked lists can only do sequential access. Random access means you can jump directly to any element.\n",
    "\n",
    "### Exercises\n",
    "\n",
    "**2.2 - Suppose you’re building an app for restaurants to take customer orders. Your app needs to store a list of orders. Servers keep adding orders to this list, and chefs take orders of the list and make them. It’s an order queue: servers add orders to the back of the queue,and the chef takes the irst order of the queue and cooks it. Would you use an array or a linked list to implement this queue?**\n",
    "\n",
    "> A Linked List.\n",
    "\n",
    "**2.3 - Let’s run a thought experiment. Suppose Facebook keeps a list of usernames. When someone tries to log in to Facebook, a search is done for their username. If their name is in the list of usernames, they can log in. People log in to Facebook pretty often, so there are a lot of searches through this list of usernames. Suppose Facebook uses binary search to search the list. Binary  search needs random access—you need to be able to get to the middle of the list of usernames instantly. Knowing this, would you implement the list as an array or a linked list?**\n",
    "\n",
    "> Array\n",
    "\n",
    "**2.4 - People sign up for Facebook pretty oten, too. Suppose you decided to use an array to store the list of users. What are the downsides of an array for inserts? In particular, suppose you’re using binary search to search for logins. What happens when you add new users to an array?**\n",
    "\n",
    "> You will have to sort again such array, in order to keep using a binary search."
   ]
  },
  {
   "cell_type": "markdown",
   "metadata": {},
   "source": [
    "# Selection Sort"
   ]
  },
  {
   "cell_type": "code",
   "execution_count": 2,
   "metadata": {},
   "outputs": [],
   "source": [
    "def find_smallest(arr):\n",
    "    # Stores the smallest value\n",
    "    smallest = arr[0]\n",
    "    smallest_index = 0\n",
    "    for index in range(1, len(arr)):\n",
    "        if arr[index] < smallest:\n",
    "            smallest = arr[index]\n",
    "            smallest_index = index\n",
    "    return smallest_index\n",
    "\n",
    "def selection_sort(arr):\n",
    "    sorted_arr = []\n",
    "    for index in range(len(arr)):\n",
    "        smallest = find_smallest(arr)\n",
    "        sorted_arr.append(arr.pop(smallest))\n",
    "\n",
    "    return sorted_arr"
   ]
  },
  {
   "cell_type": "markdown",
   "metadata": {},
   "source": [
    "# Recap\n",
    "\n",
    "- Your computer's memory is like a giant set of drawers.\n",
    "- When you want to store multiple elements, use an array or a list.\n",
    "- With an array, all your elements are stored right next to each other."
   ]
  }
 ],
 "metadata": {
  "kernelspec": {
   "display_name": "Python 3",
   "language": "python",
   "name": "python3"
  },
  "language_info": {
   "codemirror_mode": {
    "name": "ipython",
    "version": 3
   },
   "file_extension": ".py",
   "mimetype": "text/x-python",
   "name": "python",
   "nbconvert_exporter": "python",
   "pygments_lexer": "ipython3",
   "version": "3.8.1"
  }
 },
 "nbformat": 4,
 "nbformat_minor": 2
}
