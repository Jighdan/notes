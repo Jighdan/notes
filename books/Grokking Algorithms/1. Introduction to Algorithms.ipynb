{
 "cells": [
  {
   "cell_type": "markdown",
   "metadata": {},
   "source": [
    "# Introduction\n",
    "\n",
    "An _algorithm_ is a set of instructions for accomplishing a task\n",
    "\n",
    "# Binary Search\n",
    "\n",
    "Binary search is an algorithm; it's input is a sorted list of elements. If an element you're looking for is in that list, binary search returns the position where it is located. Otherwise, binary search returns `null`.\n",
    "\n",
    "In general, for any list of `n`, binary search will take `log2 n` steps to run in the worst case, whereas a simple search will take `n` steps.\n",
    "\n",
    "## Logarithms\n",
    "\n",
    "`log10 100` is like asking: \"How many 10s do we multiply together to get 100?\", the answer is `2`: `10 * 10`. Logs are the flip of exponentials.\n",
    "\n",
    "## Implementation"
   ]
  },
  {
   "cell_type": "code",
   "execution_count": 6,
   "metadata": {},
   "outputs": [],
   "source": [
    "def binary_search(array, item):\n",
    "    # Takes a sorted array and an item, \n",
    "    # and then return it's position in the array\n",
    "    low, high = 0, len(array) - 1\n",
    "    \n",
    "    while low <= high:\n",
    "        mid = int((low + high) / 2)\n",
    "        guess = array[mid]\n",
    "        if guess == item:\n",
    "            return mid\n",
    "        elif guess > item:\n",
    "            high = mid - 1\n",
    "        else:\n",
    "            low = mid + 1\n",
    "            \n",
    "    return None"
   ]
  },
  {
   "cell_type": "markdown",
   "metadata": {},
   "source": [
    "### Exercises\n",
    "\n",
    "**1.1 - Suppose you have a sorted list of 128 names, and you’re searching through it using binary search. What’s the maximum number of steps it would take?**\n",
    "\n",
    "8\n",
    "\n",
    "**1.2 - Suppose you double the size of the list. What’s the maximum number of steps now?**\n",
    "\n",
    "9"
   ]
  },
  {
   "cell_type": "markdown",
   "metadata": {},
   "source": [
    "### Running Time\n",
    "\n",
    "Generally you want to choose the most efficient algorithm - wheter you are trying to optimize for time or space.\n",
    "\n",
    "If we had to iterate over every item in an array in order to find a specific item, it would be a _linear time_, since the number of iterations will be equal to the length of such array.\n",
    "\n",
    "Binary search, in contrast runs in _logarithmic time_; so if the array we are looking in is 100 items long, it would take (at the most) 7 iterations.\n",
    "\n",
    "# Big O Notation\n",
    "\n",
    "_Big O notation_ is a special notation that tells you how fast an algorithm is. Big O doesn't tell you the speed in seconds. Big O notation let's you compare the number of operations; it tells you how fast the algorithm grows.\n",
    "\n",
    "\n",
    "## Some common Big O run times\n",
    "\n",
    "(Sorted from fastest to slowest)\n",
    "- `O(log n)`: known as _log time_ (ex: Binary Search).\n",
    "- `O(n)`: known as _linear time_ (ex: Simple Search).\n",
    "- `O(n * log n)`: a fast sorting algorithm (ex: Quicksort).\n",
    "- `O(n^2)`: a slow sorting algorithm (ex: Selection Sort).\n",
    "- `O(n!)`: a really slow algorithm (ex: Traveling Salesperson).\n",
    "\n",
    "### Exercises\n",
    "**1.3 - You have a name, and you want to find the person's phone number in the phone book.**\n",
    "\n",
    "`O(log n)`\n",
    "\n",
    "**1.4 - You have a phone number, and you want to find the person’s name in the phone book. (Hint: You’ll have to search through the whole book!)**\n",
    "\n",
    "`O(n)`\n",
    "\n",
    "**1.5 - You want to read the numbers of every person in the phone book.**\n",
    "\n",
    "`O(n)`\n",
    "\n",
    "**1.6 - You want to read the numbers of just the As.**\n",
    "\n",
    "`O(n)`\n",
    "\n",
    "### Reminders\n",
    "\n",
    "- Algorithm speed isn't measured in seconds, but in growth of the number of operations.\n",
    "\n",
    "- Instead, we talk about how quickly the run time of an algorithm increases as the size of the input increases.\n",
    "\n",
    "- Run time of algorithms is expressed in Big O notation.\n",
    "\n",
    "- `O(log n)` is faster than `O(n)`, but it gets a lot faster as the list of items your are searching grows."
   ]
  }
 ],
 "metadata": {
  "kernelspec": {
   "display_name": "Python 3",
   "language": "python",
   "name": "python3"
  },
  "language_info": {
   "codemirror_mode": {
    "name": "ipython",
    "version": 3
   },
   "file_extension": ".py",
   "mimetype": "text/x-python",
   "name": "python",
   "nbconvert_exporter": "python",
   "pygments_lexer": "ipython3",
   "version": "3.8.1"
  }
 },
 "nbformat": 4,
 "nbformat_minor": 4
}
