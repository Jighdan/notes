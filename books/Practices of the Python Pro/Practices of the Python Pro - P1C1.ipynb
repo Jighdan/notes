{
 "cells": [
  {
   "cell_type": "markdown",
   "metadata": {},
   "source": [
    "# The Bigger Picture\n",
    "## Design is a process\n",
    "Altough the word design often describes a tangible outcome, the value of design is in the process of arriving at that outcome.\n",
    "\n",
    "## Design enables better software\n",
    "Planning out a software system will help you uncover areas that present risk. You can identify where sensitive user information might be exposed to a vulnerability. You can also see wich pieces of the system might be performance bottlenecks or single points of failure\n",
    "\n",
    "## Consideration in software design\n",
    "The following are some common aspects consumers use to assess software for their use cases:\n",
    "- **_Speed:_** The software does it's job as quickly as it can.\n",
    "- **_Integrity:_** Data used or created by the software is protected from corruption.\n",
    "- **_Resources:_** The software uses disk space and network bandwith efficiently.\n",
    "- **_Security:_** Users of the software can read and write only data for which they're authorized.\n",
    "\n",
    "In addition, these are some common outcomes you as a developer might want:\n",
    "- **_Loose coupling:_** Components of the software are not intricately dependent on one another.\n",
    "- **_Intuitability:_** Developers can discover the nature of the software and how it works by reading it.\n",
    "- **_Flexibility:_** Developers can adapt the software to related or similar tasks.\n",
    "- **_Extensibility:_** Developers can add or change one aspect of the software without affecting other aspects"
   ]
  },
  {
   "cell_type": "markdown",
   "metadata": {},
   "source": [
    "## Summary\n",
    "- Python pulls as much weight in complex, enterprise projects as other major programming languages.\n",
    "- Python has one of the fastest growing user bases of any programming language.\n",
    "- Design isn’t only a thing you draw on paper; it’s the process you follow to get there.\n",
    "- Design up front is an investment that will reward you with clean and flexible code later on.\n",
    "- You need to build software with a diverse audience in mind."
   ]
  }
 ],
 "metadata": {
  "kernelspec": {
   "display_name": "Python 3",
   "language": "python",
   "name": "python3"
  },
  "language_info": {
   "codemirror_mode": {
    "name": "ipython",
    "version": 3
   },
   "file_extension": ".py",
   "mimetype": "text/x-python",
   "name": "python",
   "nbconvert_exporter": "python",
   "pygments_lexer": "ipython3",
   "version": "3.7.6"
  }
 },
 "nbformat": 4,
 "nbformat_minor": 4
}
