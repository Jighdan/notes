{
 "cells": [
  {
   "cell_type": "markdown",
   "metadata": {},
   "source": [
    "# Separation of concerns\n",
    "A cornerstone of clear code is the division of it's various behaviors into small, manageable pieces. Clear code requires you to keep less knowledge in your head at any given time, making the code simpler to reason about.\n",
    "\n",
    "## Namespacing\n",
    "Like many programming languages, Python isolates code through the concept of namespaces.\n",
    "- Each module has a _global namespace_, which code in the module can access freely.\n",
    "- Functions and classes in a module also have a _local namespace_ that only they can access.\n",
    "\n",
    "## The hierarchy of separation in Python\n",
    "One way to distinguish separate concerns is to follow the Unix philosophy of _\"do one thing and do it well\"_. When a particular function or class in your code is concerned with a single behaviour, you can improve independent of the code that uses it.\n",
    "\n",
    "### Steps to decompose code\n",
    "1. Identify the unique tasks being executed in the code. Group together lines that calculate intermediate values with the lines that calculate the final result.\n",
    "2. Wrap each task in a function with a name that clearly indicates what it does. Give each input argument a name that conveys it's intent and ideally, it's data type."
   ]
  },
  {
   "cell_type": "markdown",
   "metadata": {},
   "source": [
    "# Summary\n",
    "- Separation of concerns is a major key to understandable code; many design concepts arise directly from this principle.\n",
    "- Functions extract named concepts from procedural code. Clarity and separation are the primary objectives of extraction; reuse is a secondary benefit.\n",
    "- Classes group closely related behaviors and data together into an object.\n",
    "- Modules group related classes, functions, and data while keeping independent concerns separate. Explicitly importing code from other modules makes it clear what’s being used where.\n",
    "- Packages help create a hierarchy of modules that helps with naming and code discovery"
   ]
  }
 ],
 "metadata": {
  "kernelspec": {
   "display_name": "Python 3",
   "language": "python",
   "name": "python3"
  },
  "language_info": {
   "codemirror_mode": {
    "name": "ipython",
    "version": 3
   },
   "file_extension": ".py",
   "mimetype": "text/x-python",
   "name": "python",
   "nbconvert_exporter": "python",
   "pygments_lexer": "ipython3",
   "version": "3.8.5"
  }
 },
 "nbformat": 4,
 "nbformat_minor": 4
}
