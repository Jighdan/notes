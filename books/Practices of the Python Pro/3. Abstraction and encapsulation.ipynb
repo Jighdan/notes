{
 "cells": [
  {
   "cell_type": "markdown",
   "metadata": {},
   "source": [
    "# Abstraction and encapsulation\n",
    "You've already seen that organizing your code into functions, clases, and modules is a great way to separate _concerns_, but you cal also use these techniques to separate _complexity_ in your code.\n",
    "\n",
    "_Abstraction_ defines the process of taking something concrete and stripping it of specifics.\n",
    "\n",
    "_Encapsulation_ is the basis of object-oriented programming. It groups realted functions and data into a larger construct.\n",
    "\n",
    "**Encapsulation in Python:** Package > Module > Class\n",
    "\n",
    "### Expectations of privacy in Python\n",
    "In some object-oriented programming languages, classes can have _private methods_ and data can't be accessed by anyone but instances of the class. Python has no true support for private methods or data. "
   ]
  },
  {
   "cell_type": "code",
   "execution_count": 1,
   "metadata": {},
   "outputs": [],
   "source": [
    "# A module to generate greetings for an online store\n",
    "from datetime import datetime\n",
    "\n",
    "class Greeter:\n",
    "    def __init__(self, name):\n",
    "        self.name = name\n",
    "    \n",
    "    def _day(self):\n",
    "        return datetime.now().strftime(\"%A\")\n",
    "    \n",
    "    def _part_of_day(self):\n",
    "        current_hour = datetime.now().hour\n",
    "        if current_hour < 12:\n",
    "            part_of_day = \"morning\"\n",
    "        elif 12 <= current_hour < 17:\n",
    "            part_of_day = \"afternoon\"\n",
    "        else:\n",
    "            part_of_day = \"evening\"\n",
    "        return part_of_day\n",
    "    \n",
    "    def greet(self, store):\n",
    "        print(f\"Hi, my name is {self.name}, and welcome to {store}!\")\n",
    "        print(f\"How's your {self._day()} {self._part_of_day()} going?\")\n",
    "        print(\"Here's a coupon for 20% off\")"
   ]
  },
  {
   "cell_type": "markdown",
   "metadata": {},
   "source": [
    "### Refactoring\n",
    "Refactoring code means updating how it's structured to serve your needs more effectively. "
   ]
  },
  {
   "cell_type": "code",
   "execution_count": 2,
   "metadata": {},
   "outputs": [],
   "source": [
    "# The same module to generate greeting for an online store refactored\n",
    "from datetime import datetime\n",
    "\n",
    "def day():\n",
    "    return datetime.now().strftime(\"%A\")\n",
    "    \n",
    "def part_of_day(self):\n",
    "    current_hour = datetime.now().hour\n",
    "    if current_hour < 12:     \n",
    "        part_of_day = \"morning\"\n",
    "    elif 12 <= current_hour < 17:\n",
    "        part_of_day = \"afternoon\"\n",
    "    else:\n",
    "        part_of_day = \"evening\"\n",
    "    return part_of_day\n",
    "\n",
    "class Greeter:\n",
    "    def __init__(self, name):\n",
    "        self.name = name\n",
    "    \n",
    "    def greet(self, store):\n",
    "        print(f\"Hi, my name is {self.name}, and welcome to {store}!\")\n",
    "        print(f\"How's your {day()} {part_of_day()} going?\")\n",
    "        print(\"Here's a coupon for 20% off\")"
   ]
  },
  {
   "cell_type": "markdown",
   "metadata": {},
   "source": [
    "### Procedural programming\n",
    "Procedural software prefers to operate using _procedure calls_, which tend to call _functions_. These functions aren't encapsulated into classes, so they often rely on their inputs and occasionally on some global state.\n",
    "\n",
    "### Functional programming\n",
    "Although functional programming realies heavily on functions as the form of abstraction; it requires you to think about programs as compositions of functions.\n",
    "\n",
    "### Declarative programming\n",
    "Focuses on declaring the parameters of a task without specifying how to accomplish it.\n",
    "\n",
    "## Summary\n",
    "- Abstraction is a tool for deferring obligatory comprehension of code.\n",
    "- Abstraction takes many forms: decomposition, encapsulation, programming tyle, and inheritance versus composition.\n",
    "- Each approach to abstraction is useful, but context and extent of use are important considerations.\n",
    "- Refactoring is an iterative process; abstraction that once worked may need to be revisited later."
   ]
  }
 ],
 "metadata": {
  "kernelspec": {
   "display_name": "Python 3",
   "language": "python",
   "name": "python3"
  },
  "language_info": {
   "codemirror_mode": {
    "name": "ipython",
    "version": 3
   },
   "file_extension": ".py",
   "mimetype": "text/x-python",
   "name": "python",
   "nbconvert_exporter": "python",
   "pygments_lexer": "ipython3",
   "version": "3.8.5"
  }
 },
 "nbformat": 4,
 "nbformat_minor": 4
}
