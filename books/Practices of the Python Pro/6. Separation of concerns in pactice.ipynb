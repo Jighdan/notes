{
 "cells": [
  {
   "cell_type": "markdown",
   "metadata": {},
   "source": [
    "## The benefits of separation: Reprise\n",
    "**Reduced duplication**: If each piece of your software does one thing, it will be easier to see when two of them do the same thing.\n",
    "**Improved maintainbility**: Code\n",
    "that can be understood incrementally because each piece has a clear responsibility allows developers to jump into areas of interest, understand what they need, and jump back out.\n",
    "**Ease of generalization and extension**: Code with one responsability can be generalized to cover that responsability for a number of use cases, or it can be broken up further to support more varied behavior."
   ]
  }
 ],
 "metadata": {
  "kernelspec": {
   "display_name": "Python 3",
   "language": "python",
   "name": "python3"
  },
  "language_info": {
   "codemirror_mode": {
    "name": "ipython",
    "version": 3
   },
   "file_extension": ".py",
   "mimetype": "text/x-python",
   "name": "python",
   "nbconvert_exporter": "python",
   "pygments_lexer": "ipython3",
   "version": "3.8.1"
  }
 },
 "nbformat": 4,
 "nbformat_minor": 4
}
