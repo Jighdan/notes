{
 "cells": [
  {
   "cell_type": "markdown",
   "metadata": {},
   "source": [
    "# Designing for high performance\n",
    "\n",
    "The performance of your code is how well it utilizes resources like time and memory.\n",
    "\n",
    "Time and space complexity are measurements of how much more execution time, memory, or disk storage your software needs as its input grow. The faster your software consumes times or space, the higher its complexity.\n",
    "\n",
    "Complexity determinations are made through a proccess called _asymptotic analysis_, which involves observing the code and determining the bounds of it's worst-case performance.\n",
    "\n",
    "Commonly the complexity is written in _big O notation_, which signifies the worst-case performance for the code being analized. Big O notation looks something like _O(n^2)_, where _n_ is the number of inputs, and _n^2_ is the complexity. \n",
    "\n",
    ">This is shorthand for \"the amount of time the code takes to run increases proportional to the square of the number of inputs\""
   ]
  },
  {
   "cell_type": "markdown",
   "metadata": {},
   "source": [
    "## Time complexity\n",
    "\n",
    "_Time complexity_ is a measure of how quickly oyur code can perform a task in relation to it's inputs. \n",
    "\n",
    "### O(n) - Linearity\n",
    "Linear complexity is one of the most common complexities to arise from code. This complexity is so named because graphing the number of inputs versus times produces a straight line. \n",
    "\n",
    "You can spot code that's likely to be O(n) in Python by finding **for** loops. A single loop over a list, set, or other sequence is likely to be linear.\n",
    "\n",
    "### O(n^2) - Proportional to the square\n",
    "This crops up in cases where, for each item in a list, you need to look at every other item in the list. As you add more inputs, your code has to iterate over the additional items, but also needs to iterate over those additional items on each of those iterations.\n",
    "\n",
    "You can spot this in Python code by the presence of nested loops.\n",
    "\n",
    "> It's sometimes useful to calculate not only the worst case but also the average case and the best case. Big Ω (Big Omega) notation is used to best-case analysis, and Big θ (Big Theta) notation is used to express that the upper and lower bounds are of the speficied complexity. Usually these can help you choose the approach best suited to what you are trying to accomplish from a number of choices"
   ]
  },
  {
   "cell_type": "markdown",
   "metadata": {},
   "source": [
    "### O(1) - Constant Time\n",
    "The ideal complexity is constant time, which doesn't depend on the size of inputs. Nothing can be better than constant time because that would require the software to speed up as its input grow. Constant time is realized in some of tha data types in Python, which I'll talk more about later.\n",
    "\n",
    "## Space Complexity\n",
    "_Space complexity_ is a measure of how t=your code uses disk space or memory as it inputs grows.\n",
    "> In Python you don't often manage memory yourself; Python uses automatic garbage collection, which frees the memory that holds objects that are no longer in use by a running program."
   ]
  },
  {
   "cell_type": "markdown",
   "metadata": {},
   "source": [
    "### Memory\n",
    "A common way programs use too much memory is by reading large data files into memory when they don't have to.\n",
    "\n",
    "### Disk space\n",
    "Finding opportunities to shift an approach from a high-order complexity to a lower-order one will almost always yield better performance gains than trying to eke performance out of a particular line of code.\n",
    "\n",
    "## Summary\n",
    "- Design for performance both up front and iteratively throughout your development.\n",
    "- Think carefully about the right data type for the task.\n",
    "- Prefer generators over lists when you don’t need all the values at once, to save on memory usage.\n",
    "- Use the timeit and cProfile/profile Python modules to test your hypotheses about complexity and performance."
   ]
  }
 ],
 "metadata": {
  "kernelspec": {
   "display_name": "Python 3",
   "language": "python",
   "name": "python3"
  },
  "language_info": {
   "codemirror_mode": {
    "name": "ipython",
    "version": 3
   },
   "file_extension": ".py",
   "mimetype": "text/x-python",
   "name": "python",
   "nbconvert_exporter": "python",
   "pygments_lexer": "ipython3",
   "version": "3.7.6"
  }
 },
 "nbformat": 4,
 "nbformat_minor": 4
}
